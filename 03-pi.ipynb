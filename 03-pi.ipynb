{
 "cells": [
  {
   "cell_type": "markdown",
   "metadata": {},
   "source": [
    "<p><font size=\"5\"><b>Find 𝜋 to the N digit</b></font></p>"
   ]
  },
  {
   "cell_type": "markdown",
   "metadata": {},
   "source": [
    "As you can guess this project is about how to find 𝜋 in the N digit, for example the 𝜋 in two digit decimal as we know is 3.14. We want to know how many decimal we can generate with this program."
   ]
  },
  {
   "cell_type": "markdown",
   "metadata": {},
   "source": [
    "We will try using the simples methode to calculate the 𝜋 by using Gregory-Leibniz series."
   ]
  },
  {
   "cell_type": "markdown",
   "metadata": {},
   "source": [
    "$$\\frac{\\pi}{4} = 1 - \\frac{1}{3} + \\frac{1}{5} - \\frac{1}{7} + \\frac{1}{9} - \\cdots$$"
   ]
  },
  {
   "cell_type": "code",
   "execution_count": 113,
   "metadata": {},
   "outputs": [],
   "source": [
    "import math\n",
    "import numpy\n",
    "    \n",
    "def plus(n=10000000):\n",
    "    series_plus = []\n",
    "    for i in range(1,n,4):\n",
    "        series_plus.append(4*(1/i))\n",
    "    return series_plus\n",
    "\n",
    "def minus(n=10000000):\n",
    "    series_minus = []\n",
    "    for m in range(3,n,4):\n",
    "        series_minus.append(4*(1/m))  \n",
    "    return series_minus\n",
    "\n",
    "def pi_gl(): ## Stand for pi Gregory-Leibniz series\n",
    "    series_plus_array = numpy.array(plus())\n",
    "    series_minus_array= numpy.array(minus())\n",
    "    series_pi = series_plus_array - series_minus_array\n",
    "\n",
    "    pi = 0\n",
    "    for number in series_pi:\n",
    "        pi = pi + number\n",
    "    return pi"
   ]
  },
  {
   "cell_type": "markdown",
   "metadata": {},
   "source": [
    "lets compare our code with more accurate $\\pi$ using math.pi "
   ]
  },
  {
   "cell_type": "code",
   "execution_count": 114,
   "metadata": {},
   "outputs": [
    {
     "name": "stdout",
     "output_type": "stream",
     "text": [
      "3.14159245358981 3.141592653589793\n"
     ]
    }
   ],
   "source": [
    "print(pi_gl() , math.pi)\n"
   ]
  },
  {
   "cell_type": "markdown",
   "metadata": {},
   "source": [
    "Our code only accurate up to 6 decimal, for 10 million $n$ (term)."
   ]
  },
  {
   "cell_type": "markdown",
   "metadata": {},
   "source": [
    "To obtain the correct $\\pi$ up to 10 decimal by using direct summation of the series requires about five billion terms (according to wikipedia, kindly check it here for reference https://en.wikipedia.org/wiki/Leibniz_formula_for_%CF%80)"
   ]
  },
  {
   "cell_type": "markdown",
   "metadata": {},
   "source": [
    "Therefore, we need more accurate methode to calculate $\\pi$, define by this equation:"
   ]
  },
  {
   "cell_type": "markdown",
   "metadata": {},
   "source": [
    "$$\\frac{\\pi}{4}= \\sum_{n=0}^{\\infty} \\frac{2}{(4n+1)(4n+3)}$$"
   ]
  },
  {
   "cell_type": "code",
   "execution_count": 115,
   "metadata": {},
   "outputs": [],
   "source": [
    "def series():\n",
    "    new_series = []\n",
    "    n = 10000000\n",
    "    for i in range(0,n):\n",
    "        new_series.append(4*(2 / (((4*i) + 1) * ((4*i) + 3))))\n",
    "    return new_series\n",
    "\n",
    "def pi_ns(): ## Stand for non alternating series\n",
    "    series_pi = numpy.array(series())\n",
    "    pi = 0 \n",
    "    for num in series_pi:\n",
    "        pi = pi + num\n",
    "    return(pi)"
   ]
  },
  {
   "cell_type": "code",
   "execution_count": 116,
   "metadata": {},
   "outputs": [
    {
     "name": "stdout",
     "output_type": "stream",
     "text": [
      "3.1415926035880983 3.141592653589793\n"
     ]
    }
   ],
   "source": [
    "print(pi_ns(),math.pi)"
   ]
  },
  {
   "cell_type": "markdown",
   "metadata": {},
   "source": [
    "With the same amount of $n$ (term) our new code have more accuracy than the previous code by one decimal. In this case the accuracy is up to 7 decimal compared to math.pi. This is not too bad, but may be we can increase the accuracy by using another method next time. "
   ]
  }
 ],
 "metadata": {
  "kernelspec": {
   "display_name": "Python 3",
   "language": "python",
   "name": "python3"
  },
  "language_info": {
   "codemirror_mode": {
    "name": "ipython",
    "version": 3
   },
   "file_extension": ".py",
   "mimetype": "text/x-python",
   "name": "python",
   "nbconvert_exporter": "python",
   "pygments_lexer": "ipython3",
   "version": "3.7.4"
  }
 },
 "nbformat": 4,
 "nbformat_minor": 2
}
