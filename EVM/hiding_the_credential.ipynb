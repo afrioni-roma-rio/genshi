{
 "cells": [
  {
   "cell_type": "markdown",
   "metadata": {},
   "source": [
    "# Hiding the credential using virtual environtment (dotenv)"
   ]
  },
  {
   "cell_type": "code",
   "execution_count": 1,
   "metadata": {},
   "outputs": [],
   "source": [
    "#library\n",
    "import os\n",
    "from dotenv import load_dotenv"
   ]
  },
  {
   "cell_type": "markdown",
   "metadata": {},
   "source": [
    "1) Install dotenv library [1]: <input value=\"pip install python-dotenv\">\n",
    "<br>\n",
    "2) Create the .env file (note: **the file must be in the same directory as the jupyter-notebook file**. Otherwise, you have to setup the path to the file), you can use notepad or vim to create the file, or you can do it manually. <br>\n",
    "<img src=\"images\\notepad.png\" alt=\"notepad\" width=\"400\" height=\"400\"> <br>\n",
    "3) Insert the credential you want to hide in the .env file, then save the file. <br>\n",
    "<img src=\"images\\credential.png\" alt=\"credential\" width=\"200\" height=\"200\"> <br>\n",
    "4) load the .env file, <br>\n",
    "$\\;\\;\\;\\;\\;\\;$a) If the file does not have a name (.env) and in the same directory with the jupyter-notebook file\n",
    "```python\n",
    "load_dotenv()\n",
    "\n",
    "```\n",
    "$\\;\\;\\;\\;\\;\\;$b) If the file has a name and in the same directory with the jupyter-notebook file\n",
    "```python\n",
    "load_dotenv('file_name.env')\n",
    "```\n",
    "$\\;\\;\\;\\;\\;\\;$c) If the file has a name and in the different directory with the jupyter-notebook file\n",
    "```python\n",
    "load_dotenv('file_path\\file_name.env')\n",
    "```"
   ]
  },
  {
   "cell_type": "code",
   "execution_count": 2,
   "metadata": {},
   "outputs": [
    {
     "data": {
      "text/plain": [
       "True"
      ]
     },
     "execution_count": 2,
     "metadata": {},
     "output_type": "execute_result"
    }
   ],
   "source": [
    "#load the .env file\n",
    "load_dotenv('credential.env')"
   ]
  },
  {
   "cell_type": "markdown",
   "metadata": {},
   "source": [
    "5) Obtaining the credential"
   ]
  },
  {
   "cell_type": "code",
   "execution_count": 3,
   "metadata": {},
   "outputs": [],
   "source": [
    "user = os.getenv('USER_NAME')\n",
    "password = os.getenv('PASSWORD')"
   ]
  },
  {
   "cell_type": "code",
   "execution_count": 4,
   "metadata": {},
   "outputs": [
    {
     "name": "stdout",
     "output_type": "stream",
     "text": [
      "afrioni\n",
      "12345678910\n"
     ]
    }
   ],
   "source": [
    "#This is just to show that the credential already loaded\n",
    "print(user)\n",
    "print(password)"
   ]
  },
  {
   "cell_type": "code",
   "execution_count": 5,
   "metadata": {},
   "outputs": [],
   "source": [
    "#example hiding credential for connection string\n",
    "con_string = f\"postgres:{user}:{password}@localhost/database,\""
   ]
  },
  {
   "cell_type": "markdown",
   "metadata": {},
   "source": [
    "## Reference\n",
    "[1] https://github.com/theskumar/python-dotenv"
   ]
  }
 ],
 "metadata": {
  "kernelspec": {
   "display_name": "Python 3",
   "language": "python",
   "name": "python3"
  },
  "language_info": {
   "codemirror_mode": {
    "name": "ipython",
    "version": 3
   },
   "file_extension": ".py",
   "mimetype": "text/x-python",
   "name": "python",
   "nbconvert_exporter": "python",
   "pygments_lexer": "ipython3",
   "version": "3.7.7"
  }
 },
 "nbformat": 4,
 "nbformat_minor": 4
}
