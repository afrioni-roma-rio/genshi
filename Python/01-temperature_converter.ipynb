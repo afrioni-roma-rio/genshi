{
 "cells": [
  {
   "cell_type": "code",
   "execution_count": 30,
   "metadata": {},
   "outputs": [
    {
     "name": "stdout",
     "output_type": "stream",
     "text": [
      "What do you want to convert? Celcius\n",
      "From Celcius to? Kelvin\n",
      "Please input the temperature: 27\n",
      "The temperature is 300.15 K\n"
     ]
    }
   ],
   "source": [
    "temp_type = input('What do you want to convert? ')\n",
    "\n",
    "if temp_type == 'Celcius':\n",
    "    conv_1 = input('From Celcius to? ')\n",
    "    if conv_1 == 'Fahrenheit':\n",
    "        num_f = float(input('Please input the temperature: '))\n",
    "        conv_fahrenheit = ((9/5) * num_f + 32)\n",
    "        print('The temperature is ' + str(\"{0:.2f}\".format(conv_fahrenheit)) + ' F')\n",
    "    elif conv_1 == 'Kelvin':\n",
    "        num_k = float(input('Please input the temperature: '))\n",
    "        conv_kelvin_1 = num_k + 273.15\n",
    "        print('The temperature is ' + str(\"{0:.2f}\".format(conv_kelvin_1)) + ' K')        \n",
    "    else:\n",
    "        print(\"Sorry, please choose Farenheit or Kelvin\")\n",
    "elif temp_type == 'Fahrenheit':\n",
    "    conv_2 = input('From Fahrenheit to? ')\n",
    "    if conv_2 == 'Celcius':\n",
    "        num_c = float(input('Please input the temperature: '))\n",
    "        conv_celcius = ((5/9) * (num_c - 32) )\n",
    "        print('The temperature is ' + str(\"{0:.2f}\".format(conv_celcius)) + ' C')\n",
    "    elif conv_2 == 'Kelvin':\n",
    "        num_k = float(input('Please input the temperature: '))\n",
    "        conv_kelvin_2 = (num_k - 32) * (5/9) + 273.15\n",
    "        print('The temperature is ' + str(\"{0:.2f}\".format(conv_kelvin_2)) + ' K')        \n",
    "    else:\n",
    "        print(\"Sorry, please choose Celcius or Kelvin\")\n",
    "else:\n",
    "    print('Sorry, for now please choose Celcius or Fahrenheit \\nand make sure you type correctly')\n",
    "    \n"
   ]
  },
  {
   "cell_type": "code",
   "execution_count": null,
   "metadata": {},
   "outputs": [],
   "source": []
  }
 ],
 "metadata": {
  "kernelspec": {
   "display_name": "Python 3",
   "language": "python",
   "name": "python3"
  },
  "language_info": {
   "codemirror_mode": {
    "name": "ipython",
    "version": 3
   },
   "file_extension": ".py",
   "mimetype": "text/x-python",
   "name": "python",
   "nbconvert_exporter": "python",
   "pygments_lexer": "ipython3",
   "version": "3.7.4"
  }
 },
 "nbformat": 4,
 "nbformat_minor": 2
}
