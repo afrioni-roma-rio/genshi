{
 "cells": [
  {
   "cell_type": "code",
   "execution_count": null,
   "metadata": {},
   "outputs": [],
   "source": [
    "from IPython.display import clear_output\n",
    "\n",
    "def display_board(board):\n",
    "    print(' '+board[1]+ '  |' + ' '+board[2] + ' |' + ' ' + board [3] )\n",
    "    print('----'+ '|' + '---' + '|' + '----' )\n",
    "    print(' '+board[4]+ '  |' + ' '+board[5] + ' |' + ' ' + board [6] )\n",
    "    print('----'+ '|' + '---' + '|' + '----' )\n",
    "    print(' '+board[7]+ '  |' + ' '+board[8] + ' |' + ' ' + board [9] )"
   ]
  },
  {
   "cell_type": "code",
   "execution_count": null,
   "metadata": {},
   "outputs": [],
   "source": [
    "test_board = ['#','X','O','O','O','X','O','X','O','O']\n",
    "display_board(test_board)"
   ]
  },
  {
   "cell_type": "code",
   "execution_count": null,
   "metadata": {},
   "outputs": [],
   "source": [
    "def player_input():\n",
    "    \n",
    "    '''\n",
    "    Output = (player 1 marker, player 2 marker)\n",
    "    \n",
    "    '''\n",
    "    \n",
    "    marker = ''\n",
    "       \n",
    "    while marker != 'X' or marker != 'O':\n",
    "        marker = input(\"Player 1: Please pick a marker 'X' or 'O': \").upper()\n",
    "            \n",
    "        if marker == 'X':\n",
    "            return ('X','O')\n",
    "        elif marker == 'O':\n",
    "            return ('O','X')\n",
    "        else:\n",
    "            pass\n"
   ]
  },
  {
   "cell_type": "code",
   "execution_count": null,
   "metadata": {},
   "outputs": [],
   "source": [
    "def place_marker(board, marker, position):\n",
    "    board[position] = marker"
   ]
  },
  {
   "cell_type": "code",
   "execution_count": null,
   "metadata": {},
   "outputs": [],
   "source": [
    "def win_check(board, mark):\n",
    "    \n",
    "    return ((board[1] == mark and board[2] == mark and board[3] == mark) or\n",
    "    (board[4] == mark and board[5] == mark and board[6] == mark) or\n",
    "    (board[7] == mark and board[8] == mark and board[9] == mark) or\n",
    "    (board[1] == mark and board[4] == mark and board[7] == mark) or\n",
    "    (board[2] == mark and board[5] == mark and board[8] == mark) or\n",
    "    (board[3] == mark and board[6] == mark and board[9] == mark) or\n",
    "    (board[1] == mark and board[5] == mark and board[9] == mark) or\n",
    "    (board[3] == mark and board[5] == mark and board[7] == mark))\n",
    "    "
   ]
  },
  {
   "cell_type": "code",
   "execution_count": null,
   "metadata": {},
   "outputs": [],
   "source": [
    "import random\n",
    "\n",
    "def choose_first():\n",
    "    flip = random.randint(0,1)\n",
    "    if flip == 0:\n",
    "        return 'Player 1'\n",
    "    else:\n",
    "        return 'Player 2'"
   ]
  },
  {
   "cell_type": "code",
   "execution_count": null,
   "metadata": {},
   "outputs": [],
   "source": [
    "def space_check(board, position):\n",
    "    return board[position] == ' '"
   ]
  },
  {
   "cell_type": "code",
   "execution_count": null,
   "metadata": {},
   "outputs": [],
   "source": [
    "def full_board_check(board):\n",
    "    for i in range(1,10):\n",
    "        if space_check(board, i):\n",
    "            return False\n",
    "    return True"
   ]
  },
  {
   "cell_type": "code",
   "execution_count": null,
   "metadata": {},
   "outputs": [],
   "source": [
    "def player_choice(board):\n",
    "    position = 0\n",
    "    \n",
    "    while position not in list(range(1,10)) or not space_check(board, position):\n",
    "        position = int(input('Choose your next position: (1-9) '))\n",
    "        \n",
    "    return position"
   ]
  },
  {
   "cell_type": "code",
   "execution_count": null,
   "metadata": {},
   "outputs": [],
   "source": [
    "def replay():\n",
    "    \n",
    "    return input('Do you want to play again? Enter Yes or No: ').lower().startswith('y')"
   ]
  },
  {
   "cell_type": "code",
   "execution_count": null,
   "metadata": {},
   "outputs": [],
   "source": [
    "print('Welcome to Tic Tac Toe!')\n",
    "\n",
    "while True:\n",
    "    the_board = [' '] * 10\n",
    "    player_1_marker , player_2_marker = player_input()\n",
    "    player_turn = choose_first()\n",
    "    print(player_turn + ' will go first')\n",
    "    \n",
    "    play_game = input('Are you ready to play?: (yes/no): ')\n",
    "    \n",
    "    if play_game[0].lower() == 'y':\n",
    "        game_on = True\n",
    "    else:\n",
    "        game_on = False\n",
    "        \n",
    "    while game_on:\n",
    "        \n",
    "        if player_turn == 'Player 1':\n",
    "            # player 1 turn\n",
    "            \n",
    "            display_board(the_board)\n",
    "            position = player_choice(the_board)\n",
    "            place_marker(the_board, player_1_marker, position)\n",
    "            \n",
    "            if win_check(the_board, player_1_marker):\n",
    "                display_board(the_board)\n",
    "                print('Congratulation player 1!, you have win the game!')\n",
    "                game_on = False\n",
    "            else:\n",
    "                if full_board_check(the_board):\n",
    "                    display_board(the_board)\n",
    "                    print('The game is a draw!')\n",
    "                    break\n",
    "                else:\n",
    "                    player_turn = 'Player 2'\n",
    "        else:\n",
    "            # player 2 turn\n",
    "            display_board(the_board)\n",
    "            position = player_choice(the_board)\n",
    "            place_marker(the_board, player_2_marker, position)\n",
    "            \n",
    "            if win_check(the_board,player_2_marker):\n",
    "                display_board(the_board)\n",
    "                print('Congratulation player 2!, you have win the game!')\n",
    "                game_on = False\n",
    "            \n",
    "            else:\n",
    "                if full_board_check(the_board):\n",
    "                    display_board(the_board)\n",
    "                    print('The game is a draw!')\n",
    "                    break\n",
    "                else:\n",
    "                    player_turn = 'Player 1'\n",
    "\n",
    "    if not replay():\n",
    "        break"
   ]
  },
  {
   "cell_type": "code",
   "execution_count": null,
   "metadata": {},
   "outputs": [],
   "source": []
  }
 ],
 "metadata": {
  "kernelspec": {
   "display_name": "Python 3",
   "language": "python",
   "name": "python3"
  },
  "language_info": {
   "codemirror_mode": {
    "name": "ipython",
    "version": 3
   },
   "file_extension": ".py",
   "mimetype": "text/x-python",
   "name": "python",
   "nbconvert_exporter": "python",
   "pygments_lexer": "ipython3",
   "version": "3.7.4"
  }
 },
 "nbformat": 4,
 "nbformat_minor": 2
}
