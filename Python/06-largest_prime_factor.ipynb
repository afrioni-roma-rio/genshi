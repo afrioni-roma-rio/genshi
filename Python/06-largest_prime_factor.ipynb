{
 "cells": [
  {
   "cell_type": "markdown",
   "metadata": {},
   "source": [
    "# Largest prime factor\n",
    "#### source : https://projecteuler.net/problem=3\n",
    "The prime factors of 13195 are 5, 7, 13 and 29.\n",
    "\n",
    "What is the largest prime factor of the number 600851475143 ?\n"
   ]
  },
  {
   "cell_type": "code",
   "execution_count": 1,
   "metadata": {},
   "outputs": [
    {
     "name": "stdout",
     "output_type": "stream",
     "text": [
      "Please input the number: 600851475143\n",
      "unique prime number in the prime factor: [71, 839, 1471, 6857]\n",
      "largest prime factor: 6857\n"
     ]
    }
   ],
   "source": [
    "import sympy as sym\n",
    "\n",
    "\n",
    "\n",
    "n = int(input('Please input the number: '))\n",
    "prime_list = []\n",
    "\n",
    "for i in list(sym.primerange(0,10000)): # Just expand the prime range for larger number\n",
    "    if n % i == 0:\n",
    "        prime_list.append(i)\n",
    "\n",
    "print('unique prime number in the prime factor:',prime_list)\n",
    "print('largest prime factor:',prime_list[-1])\n"
   ]
  }
 ],
 "metadata": {
  "kernelspec": {
   "display_name": "Python 3",
   "language": "python",
   "name": "python3"
  },
  "language_info": {
   "codemirror_mode": {
    "name": "ipython",
    "version": 3
   },
   "file_extension": ".py",
   "mimetype": "text/x-python",
   "name": "python",
   "nbconvert_exporter": "python",
   "pygments_lexer": "ipython3",
   "version": "3.7.4"
  }
 },
 "nbformat": 4,
 "nbformat_minor": 2
}
