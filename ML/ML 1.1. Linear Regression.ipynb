{
 "cells": [
  {
   "cell_type": "markdown",
   "metadata": {},
   "source": [
    "# Machine Learning"
   ]
  },
  {
   "cell_type": "markdown",
   "metadata": {},
   "source": [
    "In machine learning there are many scenarios (supervised, unsupervised, semi-supervised, transductive inference, etc), but the most widely used are supervised learning and unsupervised learning. In this notebook we will try to explain the machine learning for both cases."
   ]
  },
  {
   "cell_type": "markdown",
   "metadata": {},
   "source": [
    "## 1. Supervised learning\n",
    "\n",
    "The supervised learning is the most common scenario associated with classification, regression, and ranking problems. The learner receives a set of labeled examples as traning data and makes prediction for all unseen points [1]."
   ]
  },
  {
   "cell_type": "markdown",
   "metadata": {},
   "source": [
    "### 1.1. Linear Regression"
   ]
  },
  {
   "cell_type": "code",
   "execution_count": 1,
   "metadata": {},
   "outputs": [],
   "source": [
    "# common library\n",
    "import numpy as np\n",
    "import pandas as pd\n",
    "import warnings\n",
    "warnings.filterwarnings('ignore')\n",
    "\n",
    "# visualization\n",
    "import matplotlib.pyplot as plt\n",
    "%matplotlib inline\n",
    "\n",
    "# machine learning\n",
    "from sklearn import linear_model"
   ]
  },
  {
   "cell_type": "markdown",
   "metadata": {},
   "source": [
    "For example in the linear regression model for spring force experiment, <br>\n",
    "1) We put weight $F_s$ as a mass $m$ on the string, and vary the weight <br>\n",
    "2) We measure the distance $x$ after forces was given <br>\n",
    "3) Analyze the data based on the Hook's Law <br>\n",
    "the experiment will look like the figure below"
   ]
  },
  {
   "cell_type": "markdown",
   "metadata": {},
   "source": [
    "<img src=\"images/spring.png\" alt=\"spring\" height=\"600\" width=\"200\">"
   ]
  },
  {
   "cell_type": "markdown",
   "metadata": {},
   "source": [
    "$$F_s = - k x$$ "
   ]
  },
  {
   "cell_type": "code",
   "execution_count": 2,
   "metadata": {},
   "outputs": [],
   "source": [
    "# the experiment will have data as follow\n",
    "\n",
    "m = np.arange(0,1.1,0.1) # mass in kg\n",
    "g = 9.8 #gravity (m/s^2)\n",
    "Fs = np.dot(m, g) # Force in N\n",
    "\n",
    "\n",
    "# after we varied the force we obtained the distance for each variation of force\n",
    "x = np.array([0, 0.02, 0.04, 0.06, 0.09, 0.1, 0.13, 0.15, 0.17, 0.20, 0.22 ]) #distance in meter"
   ]
  },
  {
   "cell_type": "code",
   "execution_count": 3,
   "metadata": {},
   "outputs": [],
   "source": [
    "# save the data into a table\n",
    "data = pd.DataFrame({'Fs': Fs, 'x': x})"
   ]
  },
  {
   "cell_type": "code",
   "execution_count": 4,
   "metadata": {},
   "outputs": [
    {
     "data": {
      "text/html": [
       "<div>\n",
       "<style scoped>\n",
       "    .dataframe tbody tr th:only-of-type {\n",
       "        vertical-align: middle;\n",
       "    }\n",
       "\n",
       "    .dataframe tbody tr th {\n",
       "        vertical-align: top;\n",
       "    }\n",
       "\n",
       "    .dataframe thead th {\n",
       "        text-align: right;\n",
       "    }\n",
       "</style>\n",
       "<table border=\"1\" class=\"dataframe\">\n",
       "  <thead>\n",
       "    <tr style=\"text-align: right;\">\n",
       "      <th></th>\n",
       "      <th>Fs</th>\n",
       "      <th>x</th>\n",
       "    </tr>\n",
       "  </thead>\n",
       "  <tbody>\n",
       "    <tr>\n",
       "      <th>0</th>\n",
       "      <td>0.00</td>\n",
       "      <td>0.00</td>\n",
       "    </tr>\n",
       "    <tr>\n",
       "      <th>1</th>\n",
       "      <td>0.98</td>\n",
       "      <td>0.02</td>\n",
       "    </tr>\n",
       "    <tr>\n",
       "      <th>2</th>\n",
       "      <td>1.96</td>\n",
       "      <td>0.04</td>\n",
       "    </tr>\n",
       "    <tr>\n",
       "      <th>3</th>\n",
       "      <td>2.94</td>\n",
       "      <td>0.06</td>\n",
       "    </tr>\n",
       "    <tr>\n",
       "      <th>4</th>\n",
       "      <td>3.92</td>\n",
       "      <td>0.09</td>\n",
       "    </tr>\n",
       "    <tr>\n",
       "      <th>5</th>\n",
       "      <td>4.90</td>\n",
       "      <td>0.10</td>\n",
       "    </tr>\n",
       "    <tr>\n",
       "      <th>6</th>\n",
       "      <td>5.88</td>\n",
       "      <td>0.13</td>\n",
       "    </tr>\n",
       "    <tr>\n",
       "      <th>7</th>\n",
       "      <td>6.86</td>\n",
       "      <td>0.15</td>\n",
       "    </tr>\n",
       "    <tr>\n",
       "      <th>8</th>\n",
       "      <td>7.84</td>\n",
       "      <td>0.17</td>\n",
       "    </tr>\n",
       "    <tr>\n",
       "      <th>9</th>\n",
       "      <td>8.82</td>\n",
       "      <td>0.20</td>\n",
       "    </tr>\n",
       "    <tr>\n",
       "      <th>10</th>\n",
       "      <td>9.80</td>\n",
       "      <td>0.22</td>\n",
       "    </tr>\n",
       "  </tbody>\n",
       "</table>\n",
       "</div>"
      ],
      "text/plain": [
       "      Fs     x\n",
       "0   0.00  0.00\n",
       "1   0.98  0.02\n",
       "2   1.96  0.04\n",
       "3   2.94  0.06\n",
       "4   3.92  0.09\n",
       "5   4.90  0.10\n",
       "6   5.88  0.13\n",
       "7   6.86  0.15\n",
       "8   7.84  0.17\n",
       "9   8.82  0.20\n",
       "10  9.80  0.22"
      ]
     },
     "execution_count": 4,
     "metadata": {},
     "output_type": "execute_result"
    }
   ],
   "source": [
    "data"
   ]
  },
  {
   "cell_type": "code",
   "execution_count": 5,
   "metadata": {},
   "outputs": [
    {
     "data": {
      "image/png": "[encoded data removed]",
      "text/plain": [
       "<Figure size 432x288 with 1 Axes>"
      ]
     },
     "metadata": {
      "needs_background": "light"
     },
     "output_type": "display_data"
    }
   ],
   "source": [
    "# We plot the data into a graphic\n",
    "plt.xlabel('Force (N)', fontsize = 12)\n",
    "plt.ylabel('Distance (x)', fontsize = 12)\n",
    "plt.scatter(data.Fs, data.x)\n",
    "plt.show()"
   ]
  },
  {
   "cell_type": "markdown",
   "metadata": {},
   "source": [
    "The figure above shows that we have 11 data points. By using linear regression methods we can learn and make prediction for other points (supervised learning)."
   ]
  },
  {
   "cell_type": "markdown",
   "metadata": {},
   "source": [
    "The linear regression model follow this equation:\n",
    "$$y = sx + c$$\n",
    "where $x$ is independent variable given, $y$ is dependant variable that we want to search, $s$ is the slope, and $c$ is intercept<br>\n",
    "For the experiment, the equation for Hook's Law will be slightly change, <br>\n",
    "$$x =-\\frac{1}{k} F_s $$"
   ]
  },
  {
   "cell_type": "code",
   "execution_count": 6,
   "metadata": {},
   "outputs": [
    {
     "data": {
      "text/plain": [
       "LinearRegression(copy_X=True, fit_intercept=True, n_jobs=None, normalize=False)"
      ]
     },
     "execution_count": 6,
     "metadata": {},
     "output_type": "execute_result"
    }
   ],
   "source": [
    "# Apply the linear regression method\n",
    "reg = linear_model.LinearRegression()\n",
    "reg.fit(data[['Fs']], data['x'])"
   ]
  },
  {
   "cell_type": "code",
   "execution_count": 7,
   "metadata": {},
   "outputs": [
    {
     "name": "stdout",
     "output_type": "stream",
     "text": [
      "s = 0.02 m/N\n"
     ]
    }
   ],
   "source": [
    "# gradient\n",
    "print(\"s = \"+ \"%.2f\" %reg.coef_[0], \"m/N\")\n"
   ]
  },
  {
   "cell_type": "code",
   "execution_count": 8,
   "metadata": {},
   "outputs": [
    {
     "name": "stdout",
     "output_type": "stream",
     "text": [
      "k = -44.36 N/m\n"
     ]
    }
   ],
   "source": [
    "# spring constant in N/m \n",
    "k = -(1/reg.coef_)\n",
    "print(\"k = \"+ \"%.2f\" %k[0], 'N/m')"
   ]
  },
  {
   "cell_type": "code",
   "execution_count": 9,
   "metadata": {},
   "outputs": [
    {
     "name": "stdout",
     "output_type": "stream",
     "text": [
      "0.10 meter\n"
     ]
    }
   ],
   "source": [
    "# Try to check the prediction\n",
    "print(\"%.2f\" %reg.predict([[4.5]])[0], \"meter\") # predict the distance for 4.5 N"
   ]
  },
  {
   "cell_type": "code",
   "execution_count": 10,
   "metadata": {},
   "outputs": [
    {
     "data": {
      "image/png": "[encoded data removed]",
      "text/plain": [
       "<Figure size 432x288 with 1 Axes>"
      ]
     },
     "metadata": {
      "needs_background": "light"
     },
     "output_type": "display_data"
    }
   ],
   "source": [
    "# ploting the linear regression model\n",
    "plt.xlabel('Force (N)', fontsize = 12)\n",
    "plt.ylabel('Distance (m)', fontsize = 12)\n",
    "plt.scatter(data.Fs, data.x)\n",
    "\n",
    "plt.plot(data.Fs, reg.predict(data[[\"Fs\"]]) , color='red')\n",
    "\n",
    "plt.show()"
   ]
  },
  {
   "cell_type": "markdown",
   "metadata": {},
   "source": [
    "#### Reference \n",
    "[1] M. Mohri, A. Rostamizadeh, and A. Talwalkar, \"Foundations of Machine Learning\", <i>The MIT Press Cambridge</i>, 2012."
   ]
  }
 ],
 "metadata": {
  "kernelspec": {
   "display_name": "Python 3",
   "language": "python",
   "name": "python3"
  },
  "language_info": {
   "codemirror_mode": {
    "name": "ipython",
    "version": 3
   },
   "file_extension": ".py",
   "mimetype": "text/x-python",
   "name": "python",
   "nbconvert_exporter": "python",
   "pygments_lexer": "ipython3",
   "version": "3.8.2"
  }
 },
 "nbformat": 4,
 "nbformat_minor": 4
}
