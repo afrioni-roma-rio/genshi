{
    "cells": [
        {
            "metadata": {
                "collapsed": true
            },
            "cell_type": "markdown",
            "source": [
                "# Coursera Capstone\n",
                "*Afrioni Roma Rio* <br>\n",
                "data analyst\n",
                "<br>\n",
                "<br>\n",
                "<br>\n",
                "This notebook will be used for the capstone project."
            ]
        },
        {
            "metadata": {},
            "cell_type": "code",
            "source": [
                "# libraries\n",
                "import pandas as pd\n",
                "import numpy as np"
            ],
            "execution_count": 1,
            "outputs": []
        },
        {
            "metadata": {},
            "cell_type": "code",
            "source": [
                "print('Hello Capstone Project Course!')"
            ],
            "execution_count": 2,
            "outputs": [
                {
                    "output_type": "stream",
                    "name": "stdout",
                    "text": [
                        "Hello Capstone Project Course!\n"
                    ]
                }
            ]
        }
    ],
    "metadata": {
        "kernelspec": {
            "name": "python3",
            "display_name": "Python 3",
            "language": "python"
        },
        "language_info": {
            "name": "python",
            "version": "3.7.6-final",
            "mimetype": "text/x-python",
            "codemirror_mode": {
                "name": "ipython",
                "version": 3
            },
            "pygments_lexer": "ipython3",
            "nbconvert_exporter": "python",
            "file_extension": ".py"
        }
    },
    "nbformat": 4,
    "nbformat_minor": 1
}