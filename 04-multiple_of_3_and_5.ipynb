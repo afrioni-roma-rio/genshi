{
 "cells": [
  {
   "cell_type": "markdown",
   "metadata": {},
   "source": [
    "From : https://projecteuler.net/problem=1\n",
    "\n",
    "If we list all the natural numbers below 10 that are multiples of 3 or 5, we get 3, 5, 6 and 9. The sum of these multiples is 23.\n",
    "\n",
    "Find the sum of all the multiples of 3 or 5 below 1000.\n"
   ]
  },
  {
   "cell_type": "code",
   "execution_count": 21,
   "metadata": {},
   "outputs": [
    {
     "name": "stdout",
     "output_type": "stream",
     "text": [
      "The sum of all the multiples is: 233168\n"
     ]
    }
   ],
   "source": [
    "import numpy\n",
    "\n",
    "num = 1000\n",
    "list_num = []\n",
    "for i in range(1,num):\n",
    "    if i % 3 == 0 or i % 5 == 0:\n",
    "        list_num.append(i)\n",
    "#print(list_num)\n",
    "array_num = numpy.array(list_num)\n",
    "\n",
    "sum_of_num= 0\n",
    "\n",
    "for number in array_num:\n",
    "    sum_of_num = sum_of_num + number\n",
    "\n",
    "print('The sum of all the multiples is:', sum_of_num)"
   ]
  }
 ],
 "metadata": {
  "kernelspec": {
   "display_name": "Python 3",
   "language": "python",
   "name": "python3"
  },
  "language_info": {
   "codemirror_mode": {
    "name": "ipython",
    "version": 3
   },
   "file_extension": ".py",
   "mimetype": "text/x-python",
   "name": "python",
   "nbconvert_exporter": "python",
   "pygments_lexer": "ipython3",
   "version": "3.7.4"
  }
 },
 "nbformat": 4,
 "nbformat_minor": 2
}
